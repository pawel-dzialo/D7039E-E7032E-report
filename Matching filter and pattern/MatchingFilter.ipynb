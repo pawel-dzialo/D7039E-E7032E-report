{
 "cells": [
  {
   "cell_type": "code",
   "execution_count": 1,
   "metadata": {},
   "outputs": [],
   "source": [
    "# import required modules\n",
    "import numpy as np\n"
   ]
  },
  {
   "cell_type": "code",
   "execution_count": null,
   "metadata": {},
   "outputs": [],
   "source": [
    "#matching filter\n",
    "#The filtered data \n",
    "seq = filtered\n",
    "\n",
    "#The pattern\n",
    "x = Sum\n",
    "\n",
    "#Sliding window\n",
    "window_size = len(x)\n",
    "sliding = []\n",
    "for i in range(len(seq) - window_size + 1):\n",
    "    sliding.append(seq[i: i + window_size])\n",
    "\n",
    "# Correlations threshold\n",
    "corr_treshold = 0.98\n",
    "\n",
    "\n",
    "found_one = []\n",
    "count = 0 \n",
    "for i,segment in enumerate(sliding):\n",
    "    #checks pearson correlation coefficient which returns the correlation matrix \n",
    "    score = (np.corrcoef(segment,x)) \n",
    "    if score[1][0] >= corr_treshold: #compares the corelation between x and seq\n",
    "        # important note the count is to insure that the same spike isnt detected twice\n",
    "        if count == 0: #checks that one has not been found \n",
    "            found_one.append(segment)\n",
    "            count += 1\n",
    "    if score[1][0]< corr_treshold: #if the sliding window is far away from the spike so as to not trigger the match\n",
    "        count = 0 \n",
    "    "
   ]
  }
 ],
 "metadata": {
  "kernelspec": {
   "display_name": "Excercises3",
   "language": "python",
   "name": "python3"
  },
  "language_info": {
   "codemirror_mode": {
    "name": "ipython",
    "version": 3
   },
   "file_extension": ".py",
   "mimetype": "text/x-python",
   "name": "python",
   "nbconvert_exporter": "python",
   "pygments_lexer": "ipython3",
   "version": "3.9.13 (main, Aug 25 2022, 23:51:50) [MSC v.1916 64 bit (AMD64)]"
  },
  "orig_nbformat": 4,
  "vscode": {
   "interpreter": {
    "hash": "63a2c8181135182908e7a44537c96e145b469675e4ebcdb9b6164fbe8fa92c3f"
   }
  }
 },
 "nbformat": 4,
 "nbformat_minor": 2
}
